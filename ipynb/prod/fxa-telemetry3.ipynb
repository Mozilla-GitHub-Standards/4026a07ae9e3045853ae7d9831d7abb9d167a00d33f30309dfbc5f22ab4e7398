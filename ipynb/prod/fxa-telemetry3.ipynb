{
 "cells": [
  {
   "cell_type": "code",
   "execution_count": 52,
   "metadata": {},
   "outputs": [],
   "source": [
    "from moztelemetry import get_pings, get_pings_properties, get_one_ping_per_client, get_clients_history, get_records"
   ]
  },
  {
   "cell_type": "code",
   "execution_count": 21,
   "metadata": {},
   "outputs": [],
   "source": [
    "%matplotlib inline\n",
    "TITLE = \"# of FXA_CONFIGURED events in Desktop - 10% - Fraction 0.001\"\n",
    "FRACTION = 0.001"
   ]
  },
  {
   "cell_type": "code",
   "execution_count": 22,
   "metadata": {},
   "outputs": [],
   "source": [
    "import os\n",
    "from datetime import date, timedelta, datetime\n",
    "import pandas\n",
    "\n",
    "today = date.today()\n",
    "last_monday = today - timedelta(days=-today.weekday(), weeks=2)\n",
    "\n",
    "WEEK_RANGE = pandas.date_range(end=last_monday, periods=5, freq='W-MON')\n",
    "WEEKS = WEEK_RANGE.map(lambda x: x.strftime('%Y-%m-%d'))\n",
    "\n",
    "OUT_DATA = []\n",
    "VOLUME_DATA = []\n",
    "\n",
    "for v in range(0, len(WEEKS)):\n",
    "    VOLUME_DATA.append([0] * len(WEEKS))\n",
    "\n",
    "for x in range(0, len(WEEKS)):\n",
    "    OUT_DATA.append([0] * len(WEEKS))"
   ]
  },
  {
   "cell_type": "code",
   "execution_count": 29,
   "metadata": {},
   "outputs": [
    {
     "name": "stdout",
     "output_type": "stream",
     "text": [
      "20160307\n",
      "20160314\n",
      "20160314\n",
      "20160321\n",
      "{'Desktop': ['0', '0']}\n"
     ]
    }
   ],
   "source": [
    "WEEKLY_DATA = {}\n",
    "\n",
    "for week in WEEK_RANGE:\n",
    "    next_week = week + timedelta(weeks = 1)\n",
    "    rng_start = week.strftime('%Y%m%d')\n",
    "    rng_end = next_week.strftime('%Y%m%d')\n",
    "    print rng_start\n",
    "    print rng_end\n",
    "    \n",
    "    # Get the pings\n",
    "    pings = get_pings(sc, app=\"Firefox\", submission_date=(rng_start, rng_end), version=(\"43.0\",\"45.0\"), fraction=FRACTION)\n",
    "    # Grab 10% of pings\n",
    "    pings10 = pings.filter(lambda x: x[\"meta\"].get(\"sampleId\") < 10)\n",
    "    # Get FxA pings\n",
    "    subset = get_pings_properties(pings10, [\"payload/histograms/FXA_CONFIGURED\"])\n",
    "\n",
    "    confd = subset.filter(lambda x: x['payload/histograms/FXA_CONFIGURED'] == True)\n",
    "    confd_count = confd.count()\n",
    "    \n",
    "    WEEKLY_DATA.setdefault('Desktop', []).append(str(confd_count))\n",
    "\n",
    "print WEEKLY_DATA"
   ]
  },
  {
   "cell_type": "code",
   "execution_count": 30,
   "metadata": {},
   "outputs": [
    {
     "name": "stdout",
     "output_type": "stream",
     "text": [
      "{'Desktop': ['0', '0']}\n"
     ]
    },
    {
     "data": {
      "image/png": "[encoded data removed]"
     },
     "output_type": "display_data",
     "metadata": {}
    }
   ],
   "source": [
    "import seaborn\n",
    "import matplotlib.pyplot as plt\n",
    "\n",
    "print WEEKLY_DATA\n",
    "fig = plt.figure(figsize=(16, 12))\n",
    "\n",
    "plt.title(TITLE, { 'fontsize': 26 })\n",
    "for item in WEEKLY_DATA:\n",
    "    val = WEEKLY_DATA[item]\n",
    "    plt.plot(val)\n",
    "    ax = fig.add_subplot(111)\n",
    "    for x,y in zip(range(15), val):\n",
    "        ax.annotate('%s' %y, xy=(x,y), size=15)\n",
    "\n",
    "plt.ylabel('Number of Events')\n",
    "plt.setp(plt.gca().get_xticklabels(), rotation=45, horizontalalignment='right')\n",
    "plt.xticks(range(15), WEEKS)\n",
    "plt.legend(WEEKLY_DATA.keys(), loc='lower left', prop={'size': 16})\n",
    "\n",
    "\n",
    "#plt.ylim(-10, 110)\n",
    "plt.show()"
   ]
  },
  {
   "cell_type": "code",
   "execution_count": null,
   "metadata": {},
   "outputs": [],
   "source": [
    ""
   ]
  },
  {
   "cell_type": "code",
   "execution_count": null,
   "metadata": {},
   "outputs": [],
   "source": [
    ""
   ]
  }
 ],
 "metadata": {
  "kernelspec": {
   "display_name": "Python 2",
   "language": "python",
   "name": "python2"
  },
  "language_info": {
   "codemirror_mode": {
    "name": "ipython",
    "version": 2.0
   },
   "file_extension": ".py",
   "mimetype": "text/x-python",
   "name": "python",
   "nbconvert_exporter": "python",
   "pygments_lexer": "ipython2",
   "version": "2.7.10"
  }
 },
 "nbformat": 4,
 "nbformat_minor": 0
}